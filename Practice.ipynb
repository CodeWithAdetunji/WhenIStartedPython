{
 "cells": [
  {
   "cell_type": "code",
   "execution_count": 1,
   "id": "a501e469-b949-4a35-960b-997e62d4e3ba",
   "metadata": {},
   "outputs": [
    {
     "name": "stdout",
     "output_type": "stream",
     "text": [
      "hello python\n"
     ]
    }
   ],
   "source": [
    "print(\"hello python\")"
   ]
  },
  {
   "cell_type": "code",
   "execution_count": 2,
   "id": "85355d16-5706-4eeb-95e5-0e792e0df75b",
   "metadata": {},
   "outputs": [
    {
     "name": "stdout",
     "output_type": "stream",
     "text": [
      "hello jupyter\n"
     ]
    }
   ],
   "source": [
    "print(\"hello jupyter\")"
   ]
  },
  {
   "cell_type": "code",
   "execution_count": 3,
   "id": "c50aa205-b573-4f65-aea6-3e3bb7e47d0a",
   "metadata": {},
   "outputs": [
    {
     "name": "stdout",
     "output_type": "stream",
     "text": [
      "500\n"
     ]
    }
   ],
   "source": [
    "print(500)"
   ]
  },
  {
   "cell_type": "code",
   "execution_count": 9,
   "id": "ab0da28d-4651-4dbd-ad44-c3f09c78aca9",
   "metadata": {},
   "outputs": [
    {
     "name": "stdout",
     "output_type": "stream",
     "text": [
      "150000 US Dollars\n"
     ]
    }
   ],
   "source": [
    "bitcoin = \"150000 US Dollars\"\n",
    "print(bitcoin)"
   ]
  },
  {
   "cell_type": "code",
   "execution_count": null,
   "id": "fbe9fe32-1804-4380-bb5f-4c203be7e99d",
   "metadata": {},
   "outputs": [],
   "source": []
  },
  {
   "cell_type": "code",
   "execution_count": 18,
   "id": "1c06222e-6184-481b-9f92-e41319c93819",
   "metadata": {},
   "outputs": [
    {
     "name": "stdout",
     "output_type": "stream",
     "text": [
      "113\n"
     ]
    }
   ],
   "source": [
    "Toyota_Venza = 1\n",
    "Toyota_Camry = 12\n",
    "Toyota_Corolla = 100\n",
    "all_Toyota = Toyota_Venza+Toyota_Camry+Toyota_Corolla\n",
    "print(all_Toyota) "
   ]
  },
  {
   "cell_type": "code",
   "execution_count": 20,
   "id": "d011208d-ca52-4fb6-947c-18a7191748d5",
   "metadata": {},
   "outputs": [
    {
     "name": "stdout",
     "output_type": "stream",
     "text": [
      "1\n"
     ]
    }
   ],
   "source": [
    "Toyota_Venza = 1\n",
    "print(Toyota_Venza)"
   ]
  },
  {
   "cell_type": "code",
   "execution_count": 1,
   "id": "71d4779d-c773-4955-b06b-8e47819a979d",
   "metadata": {},
   "outputs": [
    {
     "name": "stdout",
     "output_type": "stream",
     "text": [
      "12\n"
     ]
    }
   ],
   "source": [
    "Toyota_Camry = 12\n",
    "print(Toyota_Camry)"
   ]
  },
  {
   "cell_type": "code",
   "execution_count": 2,
   "id": "4f926555-8358-4d2f-8876-e78fba153dfb",
   "metadata": {},
   "outputs": [
    {
     "name": "stdout",
     "output_type": "stream",
     "text": [
      "100\n"
     ]
    }
   ],
   "source": [
    "Toyota_Corolla = 100\n",
    "print(Toyota_Corolla)"
   ]
  },
  {
   "cell_type": "code",
   "execution_count": 3,
   "id": "e385c691-b7d3-47f6-b5f4-ed0d2778d6a1",
   "metadata": {},
   "outputs": [
    {
     "name": "stdout",
     "output_type": "stream",
     "text": [
      "['berry', 'mango', 'cucumber', 'cherry']\n"
     ]
    }
   ],
   "source": [
    "fruits = [\"berry\", \"mango\", \"cucumber\", \"cherry\"]\n",
    "print(fruits)"
   ]
  },
  {
   "cell_type": "code",
   "execution_count": 4,
   "id": "0851d5bd-4c0a-42b1-800e-36f21dbd15f3",
   "metadata": {},
   "outputs": [
    {
     "name": "stdout",
     "output_type": "stream",
     "text": [
      "['berry', 'mango', 'cucumber', 'cherry', 'Grapes']\n"
     ]
    }
   ],
   "source": [
    "fruits.append(\"Grapes\")\n",
    "print(fruits)"
   ]
  },
  {
   "cell_type": "code",
   "execution_count": 8,
   "id": "024a7b87-6641-4de1-bc9e-f301cba72e68",
   "metadata": {},
   "outputs": [
    {
     "name": "stdout",
     "output_type": "stream",
     "text": [
      "['berry', 'cucumber', 'cherry', 'Grapes']\n"
     ]
    }
   ],
   "source": [
    "fruits.remove(\"mango\")\n",
    "print(fruits)"
   ]
  },
  {
   "cell_type": "code",
   "execution_count": 18,
   "id": "1df740ab-a5c7-4365-8201-2faa7d7179a3",
   "metadata": {},
   "outputs": [
    {
     "name": "stdout",
     "output_type": "stream",
     "text": [
      "you should graduate\n"
     ]
    }
   ],
   "source": [
    "Doctors_studies_medicine = 9 \n",
    "if Doctors_studies_medicine < 9:\n",
    "    print(\"yes you can't graduate\")\n",
    "elif Doctors_studies_medicine == 9:\n",
    "    print(\"you should graduate\")\n",
    "else:\n",
    "    print(\"you need to study for 9 years to be a graduate\")"
   ]
  },
  {
   "cell_type": "markdown",
   "id": "47c05820-7451-4dcb-9680-af87f874a600",
   "metadata": {},
   "source": []
  },
  {
   "cell_type": "code",
   "execution_count": 5,
   "id": "c47fa4e3-917f-42a7-9502-8f9ebcae6ab6",
   "metadata": {},
   "outputs": [
    {
     "name": "stdout",
     "output_type": "stream",
     "text": [
      "200\n",
      "300\n",
      "400\n",
      "500\n"
     ]
    }
   ],
   "source": [
    "num = [200,300,400,500]\n",
    "for num in nums:\n",
    "    print(num)\n"
   ]
  },
  {
   "cell_type": "code",
   "execution_count": 8,
   "id": "11b23332-c0b4-4ef9-9534-64f6f120ca9f",
   "metadata": {},
   "outputs": [
    {
     "name": "stdout",
     "output_type": "stream",
     "text": [
      "-1\n"
     ]
    }
   ],
   "source": [
    "def add_data(x,y):\n",
    "    return x-y\n",
    "result = add_data(2,3)\n",
    "print(result)\n"
   ]
  },
  {
   "cell_type": "code",
   "execution_count": 10,
   "id": "b1c1790f-a3f9-42bd-819b-53b7dce05843",
   "metadata": {},
   "outputs": [
    {
     "name": "stdin",
     "output_type": "stream",
     "text": [
      "what is your name? Josh\n"
     ]
    }
   ],
   "source": [
    "name = input(\"what is your name?\")"
   ]
  },
  {
   "cell_type": "code",
   "execution_count": 1,
   "id": "a7d53187-5d63-46ef-ad05-88b4bd4e8f21",
   "metadata": {},
   "outputs": [
    {
     "name": "stdout",
     "output_type": "stream",
     "text": [
      "guess the color I am thinking of\n"
     ]
    },
    {
     "name": "stdin",
     "output_type": "stream",
     "text": [
      "enter a color  GREEN\n"
     ]
    },
    {
     "name": "stdout",
     "output_type": "stream",
     "text": [
      "icorrect please try again\n"
     ]
    },
    {
     "name": "stdin",
     "output_type": "stream",
     "text": [
      "enter a color  BLUE\n"
     ]
    },
    {
     "name": "stdout",
     "output_type": "stream",
     "text": [
      "icorrect please try again\n"
     ]
    },
    {
     "name": "stdin",
     "output_type": "stream",
     "text": [
      "enter a color  YELLOW\n"
     ]
    },
    {
     "name": "stdout",
     "output_type": "stream",
     "text": [
      "icorrect please try again\n"
     ]
    },
    {
     "name": "stdin",
     "output_type": "stream",
     "text": [
      "enter a color  PURPLE\n"
     ]
    },
    {
     "name": "stdout",
     "output_type": "stream",
     "text": [
      "icorrect please try again\n"
     ]
    },
    {
     "name": "stdin",
     "output_type": "stream",
     "text": [
      "enter a color  ORANGE\n"
     ]
    },
    {
     "name": "stdout",
     "output_type": "stream",
     "text": [
      "yes you are right\n"
     ]
    }
   ],
   "source": [
    "import random\n",
    "def guess_the_colors():\n",
    "    colors = [\"red\", \"blue\", \"green\", \"yellow\", \"purple\", \"orange\", \"pink\"]\n",
    "    selected_color = random.choice(colors)\n",
    "    print(\"guess the color I am thinking of\")\n",
    "    while True:\n",
    "        guess = input(\"enter a color \").lower()\n",
    "        if guess == selected_color:\n",
    "            print(\"yes you are right\")\n",
    "            break\n",
    "        else:\n",
    "            print(\"icorrect please try again\")\n",
    "guess_the_colors()"
   ]
  },
  {
   "cell_type": "code",
   "execution_count": 2,
   "id": "02a6bfaa-65a2-41a9-97a1-70b50fc46f68",
   "metadata": {},
   "outputs": [
    {
     "name": "stdout",
     "output_type": "stream",
     "text": [
      "guess the city I am looking for\n"
     ]
    },
    {
     "name": "stdin",
     "output_type": "stream",
     "text": [
      "enter a city  machester\n"
     ]
    },
    {
     "name": "stdout",
     "output_type": "stream",
     "text": [
      "incorrect please try again\n"
     ]
    },
    {
     "name": "stdin",
     "output_type": "stream",
     "text": [
      "enter a city  california\n"
     ]
    },
    {
     "name": "stdout",
     "output_type": "stream",
     "text": [
      "incorrect please try again\n"
     ]
    },
    {
     "name": "stdin",
     "output_type": "stream",
     "text": [
      "enter a city  london\n"
     ]
    },
    {
     "name": "stdout",
     "output_type": "stream",
     "text": [
      "yes you are right\n"
     ]
    }
   ],
   "source": [
    "import random\n",
    "def guess_the_cities():\n",
    "    cities = [\"california\", \"london\", \"paris\", \"chicago\", \"manchester\",\"toronto\"]\n",
    "    selected_city = random.choice(cities)\n",
    "    print(\"guess the city I am looking for\")\n",
    "    while True:\n",
    "        guess = input(\"enter a city \").lower()\n",
    "        if guess == selected_city:\n",
    "            print(\"yes you are right\")\n",
    "            break\n",
    "        else:\n",
    "            print(\"incorrect please try again\")\n",
    "guess_the_cities()"
   ]
  },
  {
   "cell_type": "code",
   "execution_count": null,
   "id": "1834933a-e986-4096-be1c-b092201b3b98",
   "metadata": {},
   "outputs": [],
   "source": []
  }
 ],
 "metadata": {
  "kernelspec": {
   "display_name": "Python 3 (ipykernel)",
   "language": "python",
   "name": "python3"
  },
  "language_info": {
   "codemirror_mode": {
    "name": "ipython",
    "version": 3
   },
   "file_extension": ".py",
   "mimetype": "text/x-python",
   "name": "python",
   "nbconvert_exporter": "python",
   "pygments_lexer": "ipython3",
   "version": "3.13.2"
  }
 },
 "nbformat": 4,
 "nbformat_minor": 5
}
